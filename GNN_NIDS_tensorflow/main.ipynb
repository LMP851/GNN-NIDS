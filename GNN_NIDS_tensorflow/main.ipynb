{
  "nbformat": 4,
  "nbformat_minor": 0,
  "metadata": {
    "colab": {
      "provenance": [],
      "authorship_tag": "ABX9TyMQ1SkqV6enR8R8rTwvT985",
      "include_colab_link": true
    },
    "kernelspec": {
      "name": "python3",
      "display_name": "Python 3"
    },
    "language_info": {
      "name": "python"
    }
  },
  "cells": [
    {
      "cell_type": "markdown",
      "metadata": {
        "id": "view-in-github",
        "colab_type": "text"
      },
      "source": [
        "<a href=\"https://colab.research.google.com/github/LMP851/GNN-NIDS/blob/main/main.ipynb\" target=\"_parent\"><img src=\"https://colab.research.google.com/assets/colab-badge.svg\" alt=\"Open In Colab\"/></a>"
      ]
    },
    {
      "cell_type": "code",
      "source": [
        "import configparser\n",
        "import time\n",
        "import numpy as np\n",
        "import os\n",
        "import tensorflow as tf\n",
        "from utils import make_or_restore_model\n",
        "from generator import input_fn\n",
        "import configparser\n",
        "\n",
        "params = configparser.ConfigParser()\n",
        "params._interpolation = configparser.ExtendedInterpolation()\n",
        "params.read('./config.ini')\n",
        "\n",
        "model = make_or_restore_model(params=params)\n",
        "\n",
        "# callbacks to save the model\n",
        "path_logs = os.path.abspath(params['DIRECTORIES']['logs'])\n",
        "callbacks = [tf.keras.callbacks.ModelCheckpoint(filepath=  path_logs + \"/ckpt/weights.{epoch:02d}-{loss:.2f}.hdf5\", save_freq='epoch', monitor='loss', save_best_only=False), tf.keras.callbacks.TensorBoard(log_dir=path_logs + \"/logs\", update_freq=1000)]\n",
        "\n",
        "train_dataset = input_fn(data_path=os.path.abspath(params[\"DIRECTORIES\"][\"train\"]), validation=False)\n",
        "val_dataset = input_fn(data_path=os.path.abspath(params[\"DIRECTORIES\"][\"validation\"]), validation=True)\n",
        "\n",
        "# Training the model\n",
        "model.fit(train_dataset,\n",
        "          validation_data= val_dataset,\n",
        "          validation_steps = 600,\n",
        "          steps_per_epoch=1600,\n",
        "          batch_size=16,\n",
        "          epochs=2000,\n",
        "          callbacks=callbacks,\n",
        "          use_multiprocessing=True)"
      ],
      "metadata": {
        "id": "0a6Byvf1RDeJ"
      },
      "execution_count": null,
      "outputs": []
    }
  ]
}